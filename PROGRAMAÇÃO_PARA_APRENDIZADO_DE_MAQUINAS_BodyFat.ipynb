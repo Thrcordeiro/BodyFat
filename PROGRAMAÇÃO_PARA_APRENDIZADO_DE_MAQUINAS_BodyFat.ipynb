{
  "nbformat": 4,
  "nbformat_minor": 0,
  "metadata": {
    "colab": {
      "provenance": [],
      "include_colab_link": true
    },
    "kernelspec": {
      "name": "python3",
      "display_name": "Python 3"
    },
    "language_info": {
      "name": "python"
    }
  },
  "cells": [
    {
      "cell_type": "markdown",
      "metadata": {
        "id": "view-in-github",
        "colab_type": "text"
      },
      "source": [
        "<a href=\"https://colab.research.google.com/github/Thrcordeiro/BodyFat/blob/main/PROGRAMA%C3%87%C3%83O_PARA_APRENDIZADO_DE_MAQUINAS_BodyFat.ipynb\" target=\"_parent\"><img src=\"https://colab.research.google.com/assets/colab-badge.svg\" alt=\"Open In Colab\"/></a>"
      ]
    },
    {
      "cell_type": "markdown",
      "source": [
        "# **Centro de Informática da UFPE**\n",
        "### Pós-graduação em Ciência de Dados\n",
        "### Programação para Aprendizado de Máquinas\n",
        "\n",
        "**Fábio Rodrigo Cavalcante da Silva**\n",
        "\n",
        "**Thaina Mariah Ramos Cordeiro**"
      ],
      "metadata": {
        "id": "iS9Om_sMk63F"
      }
    },
    {
      "cell_type": "code",
      "execution_count": null,
      "metadata": {
        "id": "IPSwV40IBcI6"
      },
      "outputs": [],
      "source": [
        "import seaborn as sns\n",
        "import matplotlib.pyplot as plt\n",
        "import pandas as pd\n",
        "import numpy as np\n",
        "\n",
        "BodyFat = pd.read_csv('https://raw.githubusercontent.com/fabiorodrigocs/bodyfat/main/bodyfat.csv')\n"
      ]
    },
    {
      "cell_type": "markdown",
      "source": [],
      "metadata": {
        "id": "C1gGDyk-Ebib"
      }
    },
    {
      "cell_type": "markdown",
      "source": [
        "# **ANÁLISE DO DATASET**"
      ],
      "metadata": {
        "id": "5vYs6Pg5wxdk"
      }
    },
    {
      "cell_type": "code",
      "source": [
        "BodyFat.info()"
      ],
      "metadata": {
        "colab": {
          "base_uri": "https://localhost:8080/"
        },
        "id": "frk_iKIPwu66",
        "outputId": "8101debb-0c10-41a1-abf0-98bde5c7ae74"
      },
      "execution_count": null,
      "outputs": [
        {
          "output_type": "stream",
          "name": "stdout",
          "text": [
            "<class 'pandas.core.frame.DataFrame'>\n",
            "RangeIndex: 252 entries, 0 to 251\n",
            "Data columns (total 15 columns):\n",
            " #   Column   Non-Null Count  Dtype  \n",
            "---  ------   --------------  -----  \n",
            " 0   Density  252 non-null    float64\n",
            " 1   BodyFat  252 non-null    float64\n",
            " 2   Age      252 non-null    int64  \n",
            " 3   Weight   252 non-null    float64\n",
            " 4   Height   252 non-null    float64\n",
            " 5   Neck     252 non-null    float64\n",
            " 6   Chest    252 non-null    float64\n",
            " 7   Abdomen  252 non-null    float64\n",
            " 8   Hip      252 non-null    float64\n",
            " 9   Thigh    252 non-null    float64\n",
            " 10  Knee     252 non-null    float64\n",
            " 11  Ankle    252 non-null    float64\n",
            " 12  Biceps   252 non-null    float64\n",
            " 13  Forearm  252 non-null    float64\n",
            " 14  Wrist    252 non-null    float64\n",
            "dtypes: float64(14), int64(1)\n",
            "memory usage: 29.7 KB\n"
          ]
        }
      ]
    },
    {
      "cell_type": "markdown",
      "source": [
        "Dataset:\n",
        "\n",
        "* Densidade flutuada \n",
        "em água\n",
        "* Percentual de gordura (%)\n",
        "* Idade\n",
        "* Peso (lb)\n",
        "* Altura (polegadas)\n",
        "* Pescoço (cm)\n",
        "* Peito (cm)\n",
        "* Abdomen (cm)\n",
        "* Quadril (cm)\n",
        "* Coxa (cm)\n",
        "* Joelho (cm)\n",
        "* Biceps (cm)\n",
        "* Antebraço (cm)\n",
        "* Pulso (cm)\n",
        "* Tornozelo (cm)\n"
      ],
      "metadata": {
        "id": "vfxTeQ4ell6e"
      }
    },
    {
      "cell_type": "code",
      "source": [
        "BodyFat.shape"
      ],
      "metadata": {
        "colab": {
          "base_uri": "https://localhost:8080/"
        },
        "id": "32FIjYlMwWrG",
        "outputId": "ee7f0632-da87-4092-85d6-6166a7ef3451"
      },
      "execution_count": null,
      "outputs": [
        {
          "output_type": "execute_result",
          "data": {
            "text/plain": [
              "(252, 15)"
            ]
          },
          "metadata": {},
          "execution_count": 279
        }
      ]
    },
    {
      "cell_type": "code",
      "source": [
        "BodyFat.head().round(1)"
      ],
      "metadata": {
        "colab": {
          "base_uri": "https://localhost:8080/",
          "height": 206
        },
        "id": "IaDfa9v_wsON",
        "outputId": "c6cb223d-38a7-4e38-f98e-6801d9b26fa9"
      },
      "execution_count": null,
      "outputs": [
        {
          "output_type": "execute_result",
          "data": {
            "text/plain": [
              "   Density  BodyFat  Age  Weight  Height  Neck  Chest  Abdomen    Hip  Thigh  \\\n",
              "0      1.1     12.3   23   154.2    67.8  36.2   93.1     85.2   94.5   59.0   \n",
              "1      1.1      6.1   22   173.2    72.2  38.5   93.6     83.0   98.7   58.7   \n",
              "2      1.0     25.3   22   154.0    66.2  34.0   95.8     87.9   99.2   59.6   \n",
              "3      1.1     10.4   26   184.8    72.2  37.4  101.8     86.4  101.2   60.1   \n",
              "4      1.0     28.7   24   184.2    71.2  34.4   97.3    100.0  101.9   63.2   \n",
              "\n",
              "   Knee  Ankle  Biceps  Forearm  Wrist  \n",
              "0  37.3   21.9    32.0     27.4   17.1  \n",
              "1  37.3   23.4    30.5     28.9   18.2  \n",
              "2  38.9   24.0    28.8     25.2   16.6  \n",
              "3  37.3   22.8    32.4     29.4   18.2  \n",
              "4  42.2   24.0    32.2     27.7   17.7  "
            ],
            "text/html": [
              "\n",
              "  <div id=\"df-b109c788-a442-47cd-b899-6eecba995123\">\n",
              "    <div class=\"colab-df-container\">\n",
              "      <div>\n",
              "<style scoped>\n",
              "    .dataframe tbody tr th:only-of-type {\n",
              "        vertical-align: middle;\n",
              "    }\n",
              "\n",
              "    .dataframe tbody tr th {\n",
              "        vertical-align: top;\n",
              "    }\n",
              "\n",
              "    .dataframe thead th {\n",
              "        text-align: right;\n",
              "    }\n",
              "</style>\n",
              "<table border=\"1\" class=\"dataframe\">\n",
              "  <thead>\n",
              "    <tr style=\"text-align: right;\">\n",
              "      <th></th>\n",
              "      <th>Density</th>\n",
              "      <th>BodyFat</th>\n",
              "      <th>Age</th>\n",
              "      <th>Weight</th>\n",
              "      <th>Height</th>\n",
              "      <th>Neck</th>\n",
              "      <th>Chest</th>\n",
              "      <th>Abdomen</th>\n",
              "      <th>Hip</th>\n",
              "      <th>Thigh</th>\n",
              "      <th>Knee</th>\n",
              "      <th>Ankle</th>\n",
              "      <th>Biceps</th>\n",
              "      <th>Forearm</th>\n",
              "      <th>Wrist</th>\n",
              "    </tr>\n",
              "  </thead>\n",
              "  <tbody>\n",
              "    <tr>\n",
              "      <th>0</th>\n",
              "      <td>1.1</td>\n",
              "      <td>12.3</td>\n",
              "      <td>23</td>\n",
              "      <td>154.2</td>\n",
              "      <td>67.8</td>\n",
              "      <td>36.2</td>\n",
              "      <td>93.1</td>\n",
              "      <td>85.2</td>\n",
              "      <td>94.5</td>\n",
              "      <td>59.0</td>\n",
              "      <td>37.3</td>\n",
              "      <td>21.9</td>\n",
              "      <td>32.0</td>\n",
              "      <td>27.4</td>\n",
              "      <td>17.1</td>\n",
              "    </tr>\n",
              "    <tr>\n",
              "      <th>1</th>\n",
              "      <td>1.1</td>\n",
              "      <td>6.1</td>\n",
              "      <td>22</td>\n",
              "      <td>173.2</td>\n",
              "      <td>72.2</td>\n",
              "      <td>38.5</td>\n",
              "      <td>93.6</td>\n",
              "      <td>83.0</td>\n",
              "      <td>98.7</td>\n",
              "      <td>58.7</td>\n",
              "      <td>37.3</td>\n",
              "      <td>23.4</td>\n",
              "      <td>30.5</td>\n",
              "      <td>28.9</td>\n",
              "      <td>18.2</td>\n",
              "    </tr>\n",
              "    <tr>\n",
              "      <th>2</th>\n",
              "      <td>1.0</td>\n",
              "      <td>25.3</td>\n",
              "      <td>22</td>\n",
              "      <td>154.0</td>\n",
              "      <td>66.2</td>\n",
              "      <td>34.0</td>\n",
              "      <td>95.8</td>\n",
              "      <td>87.9</td>\n",
              "      <td>99.2</td>\n",
              "      <td>59.6</td>\n",
              "      <td>38.9</td>\n",
              "      <td>24.0</td>\n",
              "      <td>28.8</td>\n",
              "      <td>25.2</td>\n",
              "      <td>16.6</td>\n",
              "    </tr>\n",
              "    <tr>\n",
              "      <th>3</th>\n",
              "      <td>1.1</td>\n",
              "      <td>10.4</td>\n",
              "      <td>26</td>\n",
              "      <td>184.8</td>\n",
              "      <td>72.2</td>\n",
              "      <td>37.4</td>\n",
              "      <td>101.8</td>\n",
              "      <td>86.4</td>\n",
              "      <td>101.2</td>\n",
              "      <td>60.1</td>\n",
              "      <td>37.3</td>\n",
              "      <td>22.8</td>\n",
              "      <td>32.4</td>\n",
              "      <td>29.4</td>\n",
              "      <td>18.2</td>\n",
              "    </tr>\n",
              "    <tr>\n",
              "      <th>4</th>\n",
              "      <td>1.0</td>\n",
              "      <td>28.7</td>\n",
              "      <td>24</td>\n",
              "      <td>184.2</td>\n",
              "      <td>71.2</td>\n",
              "      <td>34.4</td>\n",
              "      <td>97.3</td>\n",
              "      <td>100.0</td>\n",
              "      <td>101.9</td>\n",
              "      <td>63.2</td>\n",
              "      <td>42.2</td>\n",
              "      <td>24.0</td>\n",
              "      <td>32.2</td>\n",
              "      <td>27.7</td>\n",
              "      <td>17.7</td>\n",
              "    </tr>\n",
              "  </tbody>\n",
              "</table>\n",
              "</div>\n",
              "      <button class=\"colab-df-convert\" onclick=\"convertToInteractive('df-b109c788-a442-47cd-b899-6eecba995123')\"\n",
              "              title=\"Convert this dataframe to an interactive table.\"\n",
              "              style=\"display:none;\">\n",
              "        \n",
              "  <svg xmlns=\"http://www.w3.org/2000/svg\" height=\"24px\"viewBox=\"0 0 24 24\"\n",
              "       width=\"24px\">\n",
              "    <path d=\"M0 0h24v24H0V0z\" fill=\"none\"/>\n",
              "    <path d=\"M18.56 5.44l.94 2.06.94-2.06 2.06-.94-2.06-.94-.94-2.06-.94 2.06-2.06.94zm-11 1L8.5 8.5l.94-2.06 2.06-.94-2.06-.94L8.5 2.5l-.94 2.06-2.06.94zm10 10l.94 2.06.94-2.06 2.06-.94-2.06-.94-.94-2.06-.94 2.06-2.06.94z\"/><path d=\"M17.41 7.96l-1.37-1.37c-.4-.4-.92-.59-1.43-.59-.52 0-1.04.2-1.43.59L10.3 9.45l-7.72 7.72c-.78.78-.78 2.05 0 2.83L4 21.41c.39.39.9.59 1.41.59.51 0 1.02-.2 1.41-.59l7.78-7.78 2.81-2.81c.8-.78.8-2.07 0-2.86zM5.41 20L4 18.59l7.72-7.72 1.47 1.35L5.41 20z\"/>\n",
              "  </svg>\n",
              "      </button>\n",
              "      \n",
              "  <style>\n",
              "    .colab-df-container {\n",
              "      display:flex;\n",
              "      flex-wrap:wrap;\n",
              "      gap: 12px;\n",
              "    }\n",
              "\n",
              "    .colab-df-convert {\n",
              "      background-color: #E8F0FE;\n",
              "      border: none;\n",
              "      border-radius: 50%;\n",
              "      cursor: pointer;\n",
              "      display: none;\n",
              "      fill: #1967D2;\n",
              "      height: 32px;\n",
              "      padding: 0 0 0 0;\n",
              "      width: 32px;\n",
              "    }\n",
              "\n",
              "    .colab-df-convert:hover {\n",
              "      background-color: #E2EBFA;\n",
              "      box-shadow: 0px 1px 2px rgba(60, 64, 67, 0.3), 0px 1px 3px 1px rgba(60, 64, 67, 0.15);\n",
              "      fill: #174EA6;\n",
              "    }\n",
              "\n",
              "    [theme=dark] .colab-df-convert {\n",
              "      background-color: #3B4455;\n",
              "      fill: #D2E3FC;\n",
              "    }\n",
              "\n",
              "    [theme=dark] .colab-df-convert:hover {\n",
              "      background-color: #434B5C;\n",
              "      box-shadow: 0px 1px 3px 1px rgba(0, 0, 0, 0.15);\n",
              "      filter: drop-shadow(0px 1px 2px rgba(0, 0, 0, 0.3));\n",
              "      fill: #FFFFFF;\n",
              "    }\n",
              "  </style>\n",
              "\n",
              "      <script>\n",
              "        const buttonEl =\n",
              "          document.querySelector('#df-b109c788-a442-47cd-b899-6eecba995123 button.colab-df-convert');\n",
              "        buttonEl.style.display =\n",
              "          google.colab.kernel.accessAllowed ? 'block' : 'none';\n",
              "\n",
              "        async function convertToInteractive(key) {\n",
              "          const element = document.querySelector('#df-b109c788-a442-47cd-b899-6eecba995123');\n",
              "          const dataTable =\n",
              "            await google.colab.kernel.invokeFunction('convertToInteractive',\n",
              "                                                     [key], {});\n",
              "          if (!dataTable) return;\n",
              "\n",
              "          const docLinkHtml = 'Like what you see? Visit the ' +\n",
              "            '<a target=\"_blank\" href=https://colab.research.google.com/notebooks/data_table.ipynb>data table notebook</a>'\n",
              "            + ' to learn more about interactive tables.';\n",
              "          element.innerHTML = '';\n",
              "          dataTable['output_type'] = 'display_data';\n",
              "          await google.colab.output.renderOutput(dataTable, element);\n",
              "          const docLink = document.createElement('div');\n",
              "          docLink.innerHTML = docLinkHtml;\n",
              "          element.appendChild(docLink);\n",
              "        }\n",
              "      </script>\n",
              "    </div>\n",
              "  </div>\n",
              "  "
            ]
          },
          "metadata": {},
          "execution_count": 280
        }
      ]
    },
    {
      "cell_type": "markdown",
      "source": [
        "**Modificação das unidade (lb e pol) para unidades do SI:**"
      ],
      "metadata": {
        "id": "NyVNpGhvmHmc"
      }
    },
    {
      "cell_type": "code",
      "source": [
        "BodyFat['Weight']=BodyFat['Weight']*0.453592     #Transformando Weight em Kg\n",
        "BodyFat.rename(columns={'Weight': 'Peso(kg)'}, inplace = True)\n",
        "BodyFat['Height']=BodyFat['Height']*2.54         #Transformando Altura em cm\n",
        "BodyFat.rename(columns={'Height': 'Altura(cm)'}, inplace = True)"
      ],
      "metadata": {
        "id": "tE-tjpbk1ug3"
      },
      "execution_count": null,
      "outputs": []
    },
    {
      "cell_type": "markdown",
      "source": [
        "**Modificação dos títulos para língua portuguesa:**"
      ],
      "metadata": {
        "id": "lbTWPeBRmPCv"
      }
    },
    {
      "cell_type": "code",
      "source": [
        "BodyFat.rename(columns={'Density': 'Densidade Flutuada'}, inplace = True)\n",
        "BodyFat.rename(columns={'BodyFat': '%Gord'}, inplace = True)\n",
        "BodyFat.rename(columns={'Age': 'Idade'}, inplace = True)\n",
        "BodyFat.rename(columns={'Neck': 'Pescoço(cm)'}, inplace = True)\n",
        "BodyFat.rename(columns={'Chest': 'Peito(cm)'}, inplace = True)\n",
        "BodyFat.rename(columns={'Abdomen': 'Abdômen(cm)'}, inplace = True)\n",
        "BodyFat.rename(columns={'Hip': 'Quadril(cm)'}, inplace = True)\n",
        "BodyFat.rename(columns={'Thigh': 'Coxa(cm)'}, inplace = True)\n",
        "BodyFat.rename(columns={'Knee': 'Joelho(cm)'}, inplace = True)\n",
        "BodyFat.rename(columns={'Ankle': 'Bíceps(cm)'}, inplace = True)\n",
        "BodyFat.rename(columns={'Biceps': 'Antebraço(cm)'}, inplace = True)\n",
        "BodyFat.rename(columns={'Forearm': 'Pulso(cm)'}, inplace = True)\n",
        "BodyFat.rename(columns={'Wrist': 'Tornozelo(cm)'}, inplace = True)\n"
      ],
      "metadata": {
        "id": "2YK5R6YGzXN7"
      },
      "execution_count": null,
      "outputs": []
    },
    {
      "cell_type": "code",
      "source": [
        "BodyFat.head().round(1)"
      ],
      "metadata": {
        "colab": {
          "base_uri": "https://localhost:8080/",
          "height": 250
        },
        "id": "dKDKCy6yzfCH",
        "outputId": "db8c5538-5806-45af-f858-e987fc97a634"
      },
      "execution_count": null,
      "outputs": [
        {
          "output_type": "execute_result",
          "data": {
            "text/plain": [
              "   Densidade Flutuada  %Gord  Idade  Peso(kg)  Altura(cm)  Pescoço(cm)  \\\n",
              "0                 1.1   12.3     23      70.0       172.1         36.2   \n",
              "1                 1.1    6.1     22      78.6       183.5         38.5   \n",
              "2                 1.0   25.3     22      69.9       168.3         34.0   \n",
              "3                 1.1   10.4     26      83.8       183.5         37.4   \n",
              "4                 1.0   28.7     24      83.6       181.0         34.4   \n",
              "\n",
              "   Peito(cm)  Abdômen(cm)  Quadril(cm)  Coxa(cm)  Joelho(cm)  Bíceps(cm)  \\\n",
              "0       93.1         85.2         94.5      59.0        37.3        21.9   \n",
              "1       93.6         83.0         98.7      58.7        37.3        23.4   \n",
              "2       95.8         87.9         99.2      59.6        38.9        24.0   \n",
              "3      101.8         86.4        101.2      60.1        37.3        22.8   \n",
              "4       97.3        100.0        101.9      63.2        42.2        24.0   \n",
              "\n",
              "   Antebraço(cm)  Pulso(cm)  Tornozelo(cm)  \n",
              "0           32.0       27.4           17.1  \n",
              "1           30.5       28.9           18.2  \n",
              "2           28.8       25.2           16.6  \n",
              "3           32.4       29.4           18.2  \n",
              "4           32.2       27.7           17.7  "
            ],
            "text/html": [
              "\n",
              "  <div id=\"df-378d2a93-6473-40fa-8a99-1370032aab93\">\n",
              "    <div class=\"colab-df-container\">\n",
              "      <div>\n",
              "<style scoped>\n",
              "    .dataframe tbody tr th:only-of-type {\n",
              "        vertical-align: middle;\n",
              "    }\n",
              "\n",
              "    .dataframe tbody tr th {\n",
              "        vertical-align: top;\n",
              "    }\n",
              "\n",
              "    .dataframe thead th {\n",
              "        text-align: right;\n",
              "    }\n",
              "</style>\n",
              "<table border=\"1\" class=\"dataframe\">\n",
              "  <thead>\n",
              "    <tr style=\"text-align: right;\">\n",
              "      <th></th>\n",
              "      <th>Densidade Flutuada</th>\n",
              "      <th>%Gord</th>\n",
              "      <th>Idade</th>\n",
              "      <th>Peso(kg)</th>\n",
              "      <th>Altura(cm)</th>\n",
              "      <th>Pescoço(cm)</th>\n",
              "      <th>Peito(cm)</th>\n",
              "      <th>Abdômen(cm)</th>\n",
              "      <th>Quadril(cm)</th>\n",
              "      <th>Coxa(cm)</th>\n",
              "      <th>Joelho(cm)</th>\n",
              "      <th>Bíceps(cm)</th>\n",
              "      <th>Antebraço(cm)</th>\n",
              "      <th>Pulso(cm)</th>\n",
              "      <th>Tornozelo(cm)</th>\n",
              "    </tr>\n",
              "  </thead>\n",
              "  <tbody>\n",
              "    <tr>\n",
              "      <th>0</th>\n",
              "      <td>1.1</td>\n",
              "      <td>12.3</td>\n",
              "      <td>23</td>\n",
              "      <td>70.0</td>\n",
              "      <td>172.1</td>\n",
              "      <td>36.2</td>\n",
              "      <td>93.1</td>\n",
              "      <td>85.2</td>\n",
              "      <td>94.5</td>\n",
              "      <td>59.0</td>\n",
              "      <td>37.3</td>\n",
              "      <td>21.9</td>\n",
              "      <td>32.0</td>\n",
              "      <td>27.4</td>\n",
              "      <td>17.1</td>\n",
              "    </tr>\n",
              "    <tr>\n",
              "      <th>1</th>\n",
              "      <td>1.1</td>\n",
              "      <td>6.1</td>\n",
              "      <td>22</td>\n",
              "      <td>78.6</td>\n",
              "      <td>183.5</td>\n",
              "      <td>38.5</td>\n",
              "      <td>93.6</td>\n",
              "      <td>83.0</td>\n",
              "      <td>98.7</td>\n",
              "      <td>58.7</td>\n",
              "      <td>37.3</td>\n",
              "      <td>23.4</td>\n",
              "      <td>30.5</td>\n",
              "      <td>28.9</td>\n",
              "      <td>18.2</td>\n",
              "    </tr>\n",
              "    <tr>\n",
              "      <th>2</th>\n",
              "      <td>1.0</td>\n",
              "      <td>25.3</td>\n",
              "      <td>22</td>\n",
              "      <td>69.9</td>\n",
              "      <td>168.3</td>\n",
              "      <td>34.0</td>\n",
              "      <td>95.8</td>\n",
              "      <td>87.9</td>\n",
              "      <td>99.2</td>\n",
              "      <td>59.6</td>\n",
              "      <td>38.9</td>\n",
              "      <td>24.0</td>\n",
              "      <td>28.8</td>\n",
              "      <td>25.2</td>\n",
              "      <td>16.6</td>\n",
              "    </tr>\n",
              "    <tr>\n",
              "      <th>3</th>\n",
              "      <td>1.1</td>\n",
              "      <td>10.4</td>\n",
              "      <td>26</td>\n",
              "      <td>83.8</td>\n",
              "      <td>183.5</td>\n",
              "      <td>37.4</td>\n",
              "      <td>101.8</td>\n",
              "      <td>86.4</td>\n",
              "      <td>101.2</td>\n",
              "      <td>60.1</td>\n",
              "      <td>37.3</td>\n",
              "      <td>22.8</td>\n",
              "      <td>32.4</td>\n",
              "      <td>29.4</td>\n",
              "      <td>18.2</td>\n",
              "    </tr>\n",
              "    <tr>\n",
              "      <th>4</th>\n",
              "      <td>1.0</td>\n",
              "      <td>28.7</td>\n",
              "      <td>24</td>\n",
              "      <td>83.6</td>\n",
              "      <td>181.0</td>\n",
              "      <td>34.4</td>\n",
              "      <td>97.3</td>\n",
              "      <td>100.0</td>\n",
              "      <td>101.9</td>\n",
              "      <td>63.2</td>\n",
              "      <td>42.2</td>\n",
              "      <td>24.0</td>\n",
              "      <td>32.2</td>\n",
              "      <td>27.7</td>\n",
              "      <td>17.7</td>\n",
              "    </tr>\n",
              "  </tbody>\n",
              "</table>\n",
              "</div>\n",
              "      <button class=\"colab-df-convert\" onclick=\"convertToInteractive('df-378d2a93-6473-40fa-8a99-1370032aab93')\"\n",
              "              title=\"Convert this dataframe to an interactive table.\"\n",
              "              style=\"display:none;\">\n",
              "        \n",
              "  <svg xmlns=\"http://www.w3.org/2000/svg\" height=\"24px\"viewBox=\"0 0 24 24\"\n",
              "       width=\"24px\">\n",
              "    <path d=\"M0 0h24v24H0V0z\" fill=\"none\"/>\n",
              "    <path d=\"M18.56 5.44l.94 2.06.94-2.06 2.06-.94-2.06-.94-.94-2.06-.94 2.06-2.06.94zm-11 1L8.5 8.5l.94-2.06 2.06-.94-2.06-.94L8.5 2.5l-.94 2.06-2.06.94zm10 10l.94 2.06.94-2.06 2.06-.94-2.06-.94-.94-2.06-.94 2.06-2.06.94z\"/><path d=\"M17.41 7.96l-1.37-1.37c-.4-.4-.92-.59-1.43-.59-.52 0-1.04.2-1.43.59L10.3 9.45l-7.72 7.72c-.78.78-.78 2.05 0 2.83L4 21.41c.39.39.9.59 1.41.59.51 0 1.02-.2 1.41-.59l7.78-7.78 2.81-2.81c.8-.78.8-2.07 0-2.86zM5.41 20L4 18.59l7.72-7.72 1.47 1.35L5.41 20z\"/>\n",
              "  </svg>\n",
              "      </button>\n",
              "      \n",
              "  <style>\n",
              "    .colab-df-container {\n",
              "      display:flex;\n",
              "      flex-wrap:wrap;\n",
              "      gap: 12px;\n",
              "    }\n",
              "\n",
              "    .colab-df-convert {\n",
              "      background-color: #E8F0FE;\n",
              "      border: none;\n",
              "      border-radius: 50%;\n",
              "      cursor: pointer;\n",
              "      display: none;\n",
              "      fill: #1967D2;\n",
              "      height: 32px;\n",
              "      padding: 0 0 0 0;\n",
              "      width: 32px;\n",
              "    }\n",
              "\n",
              "    .colab-df-convert:hover {\n",
              "      background-color: #E2EBFA;\n",
              "      box-shadow: 0px 1px 2px rgba(60, 64, 67, 0.3), 0px 1px 3px 1px rgba(60, 64, 67, 0.15);\n",
              "      fill: #174EA6;\n",
              "    }\n",
              "\n",
              "    [theme=dark] .colab-df-convert {\n",
              "      background-color: #3B4455;\n",
              "      fill: #D2E3FC;\n",
              "    }\n",
              "\n",
              "    [theme=dark] .colab-df-convert:hover {\n",
              "      background-color: #434B5C;\n",
              "      box-shadow: 0px 1px 3px 1px rgba(0, 0, 0, 0.15);\n",
              "      filter: drop-shadow(0px 1px 2px rgba(0, 0, 0, 0.3));\n",
              "      fill: #FFFFFF;\n",
              "    }\n",
              "  </style>\n",
              "\n",
              "      <script>\n",
              "        const buttonEl =\n",
              "          document.querySelector('#df-378d2a93-6473-40fa-8a99-1370032aab93 button.colab-df-convert');\n",
              "        buttonEl.style.display =\n",
              "          google.colab.kernel.accessAllowed ? 'block' : 'none';\n",
              "\n",
              "        async function convertToInteractive(key) {\n",
              "          const element = document.querySelector('#df-378d2a93-6473-40fa-8a99-1370032aab93');\n",
              "          const dataTable =\n",
              "            await google.colab.kernel.invokeFunction('convertToInteractive',\n",
              "                                                     [key], {});\n",
              "          if (!dataTable) return;\n",
              "\n",
              "          const docLinkHtml = 'Like what you see? Visit the ' +\n",
              "            '<a target=\"_blank\" href=https://colab.research.google.com/notebooks/data_table.ipynb>data table notebook</a>'\n",
              "            + ' to learn more about interactive tables.';\n",
              "          element.innerHTML = '';\n",
              "          dataTable['output_type'] = 'display_data';\n",
              "          await google.colab.output.renderOutput(dataTable, element);\n",
              "          const docLink = document.createElement('div');\n",
              "          docLink.innerHTML = docLinkHtml;\n",
              "          element.appendChild(docLink);\n",
              "        }\n",
              "      </script>\n",
              "    </div>\n",
              "  </div>\n",
              "  "
            ]
          },
          "metadata": {},
          "execution_count": 283
        }
      ]
    },
    {
      "cell_type": "markdown",
      "source": [
        "## **Estatística descritiva:**"
      ],
      "metadata": {
        "id": "k8E9WJMHxDWH"
      }
    },
    {
      "cell_type": "markdown",
      "source": [
        "\n"
      ],
      "metadata": {
        "id": "oVdzm1227jfk"
      }
    },
    {
      "cell_type": "code",
      "source": [
        "BodyFat.describe().transpose().round(2)\n",
        "\n",
        "# retirar dados com %Gord < 7%\n",
        "# retirar dados com altura < 150 cm\n",
        "# retirar densidade menor que 1.0"
      ],
      "metadata": {
        "colab": {
          "base_uri": "https://localhost:8080/",
          "height": 520
        },
        "id": "IyBWjbf2xID-",
        "outputId": "e2a43427-3d12-4fa8-8ec7-5971a29b2324"
      },
      "execution_count": null,
      "outputs": [
        {
          "output_type": "execute_result",
          "data": {
            "text/plain": [
              "                    count    mean    std    min     25%     50%     75%  \\\n",
              "Densidade Flutuada  252.0    1.06   0.02   1.00    1.04    1.05    1.07   \n",
              "%Gord               252.0   19.15   8.37   0.00   12.48   19.20   25.30   \n",
              "Idade               252.0   44.88  12.60  22.00   35.75   43.00   54.00   \n",
              "Peso(kg)            252.0   81.16  13.33  53.75   72.12   80.06   89.36   \n",
              "Altura(cm)          252.0  178.18   9.30  74.93  173.36  177.80  183.52   \n",
              "Pescoço(cm)         252.0   37.99   2.43  31.10   36.40   38.00   39.42   \n",
              "Peito(cm)           252.0  100.82   8.43  79.30   94.35   99.65  105.38   \n",
              "Abdômen(cm)         252.0   92.56  10.78  69.40   84.57   90.95   99.32   \n",
              "Quadril(cm)         252.0   99.90   7.16  85.00   95.50   99.30  103.52   \n",
              "Coxa(cm)            252.0   59.41   5.25  47.20   56.00   59.00   62.35   \n",
              "Joelho(cm)          252.0   38.59   2.41  33.00   36.98   38.50   39.92   \n",
              "Bíceps(cm)          252.0   23.10   1.69  19.10   22.00   22.80   24.00   \n",
              "Antebraço(cm)       252.0   32.27   3.02  24.80   30.20   32.05   34.32   \n",
              "Pulso(cm)           252.0   28.66   2.02  21.00   27.30   28.70   30.00   \n",
              "Tornozelo(cm)       252.0   18.23   0.93  15.80   17.60   18.30   18.80   \n",
              "\n",
              "                       max  \n",
              "Densidade Flutuada    1.11  \n",
              "%Gord                47.50  \n",
              "Idade                81.00  \n",
              "Peso(kg)            164.72  \n",
              "Altura(cm)          197.48  \n",
              "Pescoço(cm)          51.20  \n",
              "Peito(cm)           136.20  \n",
              "Abdômen(cm)         148.10  \n",
              "Quadril(cm)         147.70  \n",
              "Coxa(cm)             87.30  \n",
              "Joelho(cm)           49.10  \n",
              "Bíceps(cm)           33.90  \n",
              "Antebraço(cm)        45.00  \n",
              "Pulso(cm)            34.90  \n",
              "Tornozelo(cm)        21.40  "
            ],
            "text/html": [
              "\n",
              "  <div id=\"df-ec3799d7-71fc-45cf-a30a-7c9d1caceb02\">\n",
              "    <div class=\"colab-df-container\">\n",
              "      <div>\n",
              "<style scoped>\n",
              "    .dataframe tbody tr th:only-of-type {\n",
              "        vertical-align: middle;\n",
              "    }\n",
              "\n",
              "    .dataframe tbody tr th {\n",
              "        vertical-align: top;\n",
              "    }\n",
              "\n",
              "    .dataframe thead th {\n",
              "        text-align: right;\n",
              "    }\n",
              "</style>\n",
              "<table border=\"1\" class=\"dataframe\">\n",
              "  <thead>\n",
              "    <tr style=\"text-align: right;\">\n",
              "      <th></th>\n",
              "      <th>count</th>\n",
              "      <th>mean</th>\n",
              "      <th>std</th>\n",
              "      <th>min</th>\n",
              "      <th>25%</th>\n",
              "      <th>50%</th>\n",
              "      <th>75%</th>\n",
              "      <th>max</th>\n",
              "    </tr>\n",
              "  </thead>\n",
              "  <tbody>\n",
              "    <tr>\n",
              "      <th>Densidade Flutuada</th>\n",
              "      <td>252.0</td>\n",
              "      <td>1.06</td>\n",
              "      <td>0.02</td>\n",
              "      <td>1.00</td>\n",
              "      <td>1.04</td>\n",
              "      <td>1.05</td>\n",
              "      <td>1.07</td>\n",
              "      <td>1.11</td>\n",
              "    </tr>\n",
              "    <tr>\n",
              "      <th>%Gord</th>\n",
              "      <td>252.0</td>\n",
              "      <td>19.15</td>\n",
              "      <td>8.37</td>\n",
              "      <td>0.00</td>\n",
              "      <td>12.48</td>\n",
              "      <td>19.20</td>\n",
              "      <td>25.30</td>\n",
              "      <td>47.50</td>\n",
              "    </tr>\n",
              "    <tr>\n",
              "      <th>Idade</th>\n",
              "      <td>252.0</td>\n",
              "      <td>44.88</td>\n",
              "      <td>12.60</td>\n",
              "      <td>22.00</td>\n",
              "      <td>35.75</td>\n",
              "      <td>43.00</td>\n",
              "      <td>54.00</td>\n",
              "      <td>81.00</td>\n",
              "    </tr>\n",
              "    <tr>\n",
              "      <th>Peso(kg)</th>\n",
              "      <td>252.0</td>\n",
              "      <td>81.16</td>\n",
              "      <td>13.33</td>\n",
              "      <td>53.75</td>\n",
              "      <td>72.12</td>\n",
              "      <td>80.06</td>\n",
              "      <td>89.36</td>\n",
              "      <td>164.72</td>\n",
              "    </tr>\n",
              "    <tr>\n",
              "      <th>Altura(cm)</th>\n",
              "      <td>252.0</td>\n",
              "      <td>178.18</td>\n",
              "      <td>9.30</td>\n",
              "      <td>74.93</td>\n",
              "      <td>173.36</td>\n",
              "      <td>177.80</td>\n",
              "      <td>183.52</td>\n",
              "      <td>197.48</td>\n",
              "    </tr>\n",
              "    <tr>\n",
              "      <th>Pescoço(cm)</th>\n",
              "      <td>252.0</td>\n",
              "      <td>37.99</td>\n",
              "      <td>2.43</td>\n",
              "      <td>31.10</td>\n",
              "      <td>36.40</td>\n",
              "      <td>38.00</td>\n",
              "      <td>39.42</td>\n",
              "      <td>51.20</td>\n",
              "    </tr>\n",
              "    <tr>\n",
              "      <th>Peito(cm)</th>\n",
              "      <td>252.0</td>\n",
              "      <td>100.82</td>\n",
              "      <td>8.43</td>\n",
              "      <td>79.30</td>\n",
              "      <td>94.35</td>\n",
              "      <td>99.65</td>\n",
              "      <td>105.38</td>\n",
              "      <td>136.20</td>\n",
              "    </tr>\n",
              "    <tr>\n",
              "      <th>Abdômen(cm)</th>\n",
              "      <td>252.0</td>\n",
              "      <td>92.56</td>\n",
              "      <td>10.78</td>\n",
              "      <td>69.40</td>\n",
              "      <td>84.57</td>\n",
              "      <td>90.95</td>\n",
              "      <td>99.32</td>\n",
              "      <td>148.10</td>\n",
              "    </tr>\n",
              "    <tr>\n",
              "      <th>Quadril(cm)</th>\n",
              "      <td>252.0</td>\n",
              "      <td>99.90</td>\n",
              "      <td>7.16</td>\n",
              "      <td>85.00</td>\n",
              "      <td>95.50</td>\n",
              "      <td>99.30</td>\n",
              "      <td>103.52</td>\n",
              "      <td>147.70</td>\n",
              "    </tr>\n",
              "    <tr>\n",
              "      <th>Coxa(cm)</th>\n",
              "      <td>252.0</td>\n",
              "      <td>59.41</td>\n",
              "      <td>5.25</td>\n",
              "      <td>47.20</td>\n",
              "      <td>56.00</td>\n",
              "      <td>59.00</td>\n",
              "      <td>62.35</td>\n",
              "      <td>87.30</td>\n",
              "    </tr>\n",
              "    <tr>\n",
              "      <th>Joelho(cm)</th>\n",
              "      <td>252.0</td>\n",
              "      <td>38.59</td>\n",
              "      <td>2.41</td>\n",
              "      <td>33.00</td>\n",
              "      <td>36.98</td>\n",
              "      <td>38.50</td>\n",
              "      <td>39.92</td>\n",
              "      <td>49.10</td>\n",
              "    </tr>\n",
              "    <tr>\n",
              "      <th>Bíceps(cm)</th>\n",
              "      <td>252.0</td>\n",
              "      <td>23.10</td>\n",
              "      <td>1.69</td>\n",
              "      <td>19.10</td>\n",
              "      <td>22.00</td>\n",
              "      <td>22.80</td>\n",
              "      <td>24.00</td>\n",
              "      <td>33.90</td>\n",
              "    </tr>\n",
              "    <tr>\n",
              "      <th>Antebraço(cm)</th>\n",
              "      <td>252.0</td>\n",
              "      <td>32.27</td>\n",
              "      <td>3.02</td>\n",
              "      <td>24.80</td>\n",
              "      <td>30.20</td>\n",
              "      <td>32.05</td>\n",
              "      <td>34.32</td>\n",
              "      <td>45.00</td>\n",
              "    </tr>\n",
              "    <tr>\n",
              "      <th>Pulso(cm)</th>\n",
              "      <td>252.0</td>\n",
              "      <td>28.66</td>\n",
              "      <td>2.02</td>\n",
              "      <td>21.00</td>\n",
              "      <td>27.30</td>\n",
              "      <td>28.70</td>\n",
              "      <td>30.00</td>\n",
              "      <td>34.90</td>\n",
              "    </tr>\n",
              "    <tr>\n",
              "      <th>Tornozelo(cm)</th>\n",
              "      <td>252.0</td>\n",
              "      <td>18.23</td>\n",
              "      <td>0.93</td>\n",
              "      <td>15.80</td>\n",
              "      <td>17.60</td>\n",
              "      <td>18.30</td>\n",
              "      <td>18.80</td>\n",
              "      <td>21.40</td>\n",
              "    </tr>\n",
              "  </tbody>\n",
              "</table>\n",
              "</div>\n",
              "      <button class=\"colab-df-convert\" onclick=\"convertToInteractive('df-ec3799d7-71fc-45cf-a30a-7c9d1caceb02')\"\n",
              "              title=\"Convert this dataframe to an interactive table.\"\n",
              "              style=\"display:none;\">\n",
              "        \n",
              "  <svg xmlns=\"http://www.w3.org/2000/svg\" height=\"24px\"viewBox=\"0 0 24 24\"\n",
              "       width=\"24px\">\n",
              "    <path d=\"M0 0h24v24H0V0z\" fill=\"none\"/>\n",
              "    <path d=\"M18.56 5.44l.94 2.06.94-2.06 2.06-.94-2.06-.94-.94-2.06-.94 2.06-2.06.94zm-11 1L8.5 8.5l.94-2.06 2.06-.94-2.06-.94L8.5 2.5l-.94 2.06-2.06.94zm10 10l.94 2.06.94-2.06 2.06-.94-2.06-.94-.94-2.06-.94 2.06-2.06.94z\"/><path d=\"M17.41 7.96l-1.37-1.37c-.4-.4-.92-.59-1.43-.59-.52 0-1.04.2-1.43.59L10.3 9.45l-7.72 7.72c-.78.78-.78 2.05 0 2.83L4 21.41c.39.39.9.59 1.41.59.51 0 1.02-.2 1.41-.59l7.78-7.78 2.81-2.81c.8-.78.8-2.07 0-2.86zM5.41 20L4 18.59l7.72-7.72 1.47 1.35L5.41 20z\"/>\n",
              "  </svg>\n",
              "      </button>\n",
              "      \n",
              "  <style>\n",
              "    .colab-df-container {\n",
              "      display:flex;\n",
              "      flex-wrap:wrap;\n",
              "      gap: 12px;\n",
              "    }\n",
              "\n",
              "    .colab-df-convert {\n",
              "      background-color: #E8F0FE;\n",
              "      border: none;\n",
              "      border-radius: 50%;\n",
              "      cursor: pointer;\n",
              "      display: none;\n",
              "      fill: #1967D2;\n",
              "      height: 32px;\n",
              "      padding: 0 0 0 0;\n",
              "      width: 32px;\n",
              "    }\n",
              "\n",
              "    .colab-df-convert:hover {\n",
              "      background-color: #E2EBFA;\n",
              "      box-shadow: 0px 1px 2px rgba(60, 64, 67, 0.3), 0px 1px 3px 1px rgba(60, 64, 67, 0.15);\n",
              "      fill: #174EA6;\n",
              "    }\n",
              "\n",
              "    [theme=dark] .colab-df-convert {\n",
              "      background-color: #3B4455;\n",
              "      fill: #D2E3FC;\n",
              "    }\n",
              "\n",
              "    [theme=dark] .colab-df-convert:hover {\n",
              "      background-color: #434B5C;\n",
              "      box-shadow: 0px 1px 3px 1px rgba(0, 0, 0, 0.15);\n",
              "      filter: drop-shadow(0px 1px 2px rgba(0, 0, 0, 0.3));\n",
              "      fill: #FFFFFF;\n",
              "    }\n",
              "  </style>\n",
              "\n",
              "      <script>\n",
              "        const buttonEl =\n",
              "          document.querySelector('#df-ec3799d7-71fc-45cf-a30a-7c9d1caceb02 button.colab-df-convert');\n",
              "        buttonEl.style.display =\n",
              "          google.colab.kernel.accessAllowed ? 'block' : 'none';\n",
              "\n",
              "        async function convertToInteractive(key) {\n",
              "          const element = document.querySelector('#df-ec3799d7-71fc-45cf-a30a-7c9d1caceb02');\n",
              "          const dataTable =\n",
              "            await google.colab.kernel.invokeFunction('convertToInteractive',\n",
              "                                                     [key], {});\n",
              "          if (!dataTable) return;\n",
              "\n",
              "          const docLinkHtml = 'Like what you see? Visit the ' +\n",
              "            '<a target=\"_blank\" href=https://colab.research.google.com/notebooks/data_table.ipynb>data table notebook</a>'\n",
              "            + ' to learn more about interactive tables.';\n",
              "          element.innerHTML = '';\n",
              "          dataTable['output_type'] = 'display_data';\n",
              "          await google.colab.output.renderOutput(dataTable, element);\n",
              "          const docLink = document.createElement('div');\n",
              "          docLink.innerHTML = docLinkHtml;\n",
              "          element.appendChild(docLink);\n",
              "        }\n",
              "      </script>\n",
              "    </div>\n",
              "  </div>\n",
              "  "
            ]
          },
          "metadata": {},
          "execution_count": 284
        }
      ]
    },
    {
      "cell_type": "code",
      "source": [
        "#sns.pairplot( BodyFat, vars=[\"Idade\",\"Altura(cm)\", \"Densidade Flutuada\",\"Peso(kg)\",\"Peito(cm)\",\"Abdômen(cm)\",\"%Gord\"]) \n"
      ],
      "metadata": {
        "id": "PlM8bQOUxf8m"
      },
      "execution_count": null,
      "outputs": []
    },
    {
      "cell_type": "code",
      "source": [
        "#sns.histplot( BodyFat['Densidade Flutuada'], kde=True, bins=20)\n",
        "#sns.histplot( BodyFat['%Gord'], bins = 20, kde=True)\n",
        "#sns.histplot( BodyFat['Idade'], kde=True, bins = 20)\n",
        "sns.histplot( BodyFat['Peso(kg)'], kde=True, bins =20)\n",
        "#sns.histplot( BodyFat['Altura(cm)'], kde=True)\n",
        "#sns.histplot( BodyFat['Pescoço(cm)'], kde=True)\n",
        "#sns.histplot( BodyFat['Peito(cm)'], kde=True)\n",
        "#sns.histplot( BodyFat['Abdômen(cm)'], kde=True)\n",
        "#sns.histplot( BodyFat['Quadril(cm)'], kde=True)\n",
        "#sns.histplot( BodyFat['Coxa(cm)'], kde=True)\n",
        "#sns.histplot( BodyFat['Joelho(cm)'], kde=True)\n",
        "#sns.histplot( BodyFat['Bíceps(cm)'], kde=True)\n",
        "#sns.histplot( BodyFat['Antebraço(cm)'], kde=True)\n",
        "#sns.histplot( BodyFat['Pulso(cm)'], kde=True)\n",
        "#sns.histplot( BodyFat['Tornozelo(cm)'], kde=True)\n",
        "\n",
        "\n",
        "#plt.tight_layout()"
      ],
      "metadata": {
        "colab": {
          "base_uri": "https://localhost:8080/",
          "height": 296
        },
        "id": "GU2ltYmvvmJE",
        "outputId": "30c42fa9-8aec-46dd-c9e3-bc01846014e0"
      },
      "execution_count": null,
      "outputs": [
        {
          "output_type": "execute_result",
          "data": {
            "text/plain": [
              "<matplotlib.axes._subplots.AxesSubplot at 0x7fcd065d4c50>"
            ]
          },
          "metadata": {},
          "execution_count": 286
        },
        {
          "output_type": "display_data",
          "data": {
            "text/plain": [
              "<Figure size 432x288 with 1 Axes>"
            ],
            "image/png": "[encoded data removed]"
          },
          "metadata": {
            "needs_background": "light"
          }
        }
      ]
    },
    {
      "cell_type": "code",
      "source": [
        "# Verificando se existem outliers:\n",
        "fig, (axis1, axis2, axis3, axis4, axis5) = plt.subplots(5,1, figsize = (15,5))\n",
        "sns.boxplot(data = BodyFat, x = 'Densidade Flutuada', ax = axis1)\n",
        "sns.boxplot(data = BodyFat, x = 'Pescoço(cm)', ax = axis2)\n",
        "sns.boxplot(data = BodyFat, x = 'Bíceps(cm)', ax = axis3)\n",
        "sns.boxplot(data = BodyFat, x = 'Altura(cm)', ax = axis4)\n",
        "sns.boxplot(data = BodyFat, x = 'Peso(kg)', ax = axis5)\n",
        "plt.tight_layout()"
      ],
      "metadata": {
        "colab": {
          "base_uri": "https://localhost:8080/",
          "height": 369
        },
        "id": "2Hit72sqxW1n",
        "outputId": "0a2cec29-d4e9-49b6-ac97-33e054f7286f"
      },
      "execution_count": null,
      "outputs": [
        {
          "output_type": "display_data",
          "data": {
            "text/plain": [
              "<Figure size 1080x360 with 5 Axes>"
            ],
            "image/png": "[encoded data removed]"
          },
          "metadata": {
            "needs_background": "light"
          }
        }
      ]
    },
    {
      "cell_type": "code",
      "source": [
        " # Retirando outliers\n",
        " df_remove = BodyFat.loc[(BodyFat['Densidade Flutuada'] < 1) | (BodyFat['Altura(cm)'] < 140) | (BodyFat['Pescoço(cm)'] > 45) | (BodyFat['Bíceps(cm)'] > 32) | (BodyFat['Peso(kg)'] > 120) ]\n",
        " BodyFat = BodyFat.drop(df_remove.index)\n"
      ],
      "metadata": {
        "id": "J2NaiWmlwdwE"
      },
      "execution_count": null,
      "outputs": []
    },
    {
      "cell_type": "code",
      "source": [
        "fig, (axis1, axis2, axis3, axis4, axis5) = plt.subplots(5,1, figsize = (15,5))\n",
        "sns.boxplot(data = BodyFat, x = 'Densidade Flutuada', ax = axis1)\n",
        "sns.boxplot(data = BodyFat, x = 'Pescoço(cm)', ax = axis2)\n",
        "sns.boxplot(data = BodyFat, x = 'Bíceps(cm)', ax = axis3)\n",
        "sns.boxplot(data = BodyFat, x = 'Altura(cm)', ax = axis4)\n",
        "sns.boxplot(data = BodyFat, x = 'Peso(kg)', ax = axis5)\n",
        "plt.tight_layout()"
      ],
      "metadata": {
        "colab": {
          "base_uri": "https://localhost:8080/",
          "height": 369
        },
        "id": "s-DNGPndw7UT",
        "outputId": "4b92bb89-fddf-42e4-fb86-4e8df0b43226"
      },
      "execution_count": null,
      "outputs": [
        {
          "output_type": "display_data",
          "data": {
            "text/plain": [
              "<Figure size 1080x360 with 5 Axes>"
            ],
            "image/png": "[encoded data removed]"
          },
          "metadata": {
            "needs_background": "light"
          }
        }
      ]
    },
    {
      "cell_type": "markdown",
      "source": [
        "## **Avaliando as correlações entre as features e o BodyFat (%Gord):**"
      ],
      "metadata": {
        "id": "KMgDfxv-xPnW"
      }
    },
    {
      "cell_type": "code",
      "source": [
        "#Gerar a matriz de correlações utilizando o método seaborn.heatmap()\n",
        "BodyFat.corr()\n",
        "BodyFat_corr = BodyFat.corr(method='pearson')\n",
        "plt.figure(figsize=(12, 6))\n",
        "sns.heatmap(BodyFat_corr, cmap = 'Purples', fmt = '.2g', annot=True)\n",
        "plt.show()"
      ],
      "metadata": {
        "colab": {
          "base_uri": "https://localhost:8080/",
          "height": 468
        },
        "id": "xLf8eo1t4fO1",
        "outputId": "08e16175-698b-4000-80fd-baab97e31a92"
      },
      "execution_count": null,
      "outputs": [
        {
          "output_type": "display_data",
          "data": {
            "text/plain": [
              "<Figure size 864x432 with 2 Axes>"
            ],
            "image/png": "[encoded data removed]"
          },
          "metadata": {
            "needs_background": "light"
          }
        }
      ]
    },
    {
      "cell_type": "markdown",
      "source": [
        "## **Selecionando as variáveis mais relevantes:**"
      ],
      "metadata": {
        "id": "CvMoW1j4xmPS"
      }
    },
    {
      "cell_type": "code",
      "source": [
        "# Densidade flutuada: corr = 0.99\n",
        "# Abdômen: corr = 0.81\n",
        "# Peito = 0.70\n",
        "# Peso: corr = 0.61\n",
        "# Quadril: corr = 0.63\n",
        "\n",
        "# RETIRADA 'DENSIDADE FLUTUADA' POR QUESTÕES DIDÁTICAS\n",
        "\n",
        "\n",
        "BodyFat = BodyFat.drop(columns=['Densidade Flutuada', 'Idade','Altura(cm)','Pescoço(cm)', 'Coxa(cm)', 'Joelho(cm)', 'Bíceps(cm)','Antebraço(cm)', 'Pulso(cm)', 'Tornozelo(cm)', 'Quadril(cm)', 'Peito(cm)'])\n",
        "BodyFat"
      ],
      "metadata": {
        "colab": {
          "base_uri": "https://localhost:8080/",
          "height": 424
        },
        "id": "MZ7pwu-lxlvs",
        "outputId": "015df8f5-ebff-4012-e144-a0065637f994"
      },
      "execution_count": null,
      "outputs": [
        {
          "output_type": "execute_result",
          "data": {
            "text/plain": [
              "     %Gord   Peso(kg)  Abdômen(cm)\n",
              "0     12.3  69.966566         85.2\n",
              "1      6.1  78.584814         83.0\n",
              "2     25.3  69.853168         87.9\n",
              "3     10.4  83.801122         86.4\n",
              "4     28.7  83.574326        100.0\n",
              "..     ...        ...          ...\n",
              "247   11.0  60.894726         83.6\n",
              "248   33.6  91.171992        105.0\n",
              "249   29.3  84.708306        111.5\n",
              "250   26.0  86.522674        101.3\n",
              "251   31.9  94.120340        108.5\n",
              "\n",
              "[247 rows x 3 columns]"
            ],
            "text/html": [
              "\n",
              "  <div id=\"df-b9ea69c0-5512-48be-9b7d-f8df434d8cf7\">\n",
              "    <div class=\"colab-df-container\">\n",
              "      <div>\n",
              "<style scoped>\n",
              "    .dataframe tbody tr th:only-of-type {\n",
              "        vertical-align: middle;\n",
              "    }\n",
              "\n",
              "    .dataframe tbody tr th {\n",
              "        vertical-align: top;\n",
              "    }\n",
              "\n",
              "    .dataframe thead th {\n",
              "        text-align: right;\n",
              "    }\n",
              "</style>\n",
              "<table border=\"1\" class=\"dataframe\">\n",
              "  <thead>\n",
              "    <tr style=\"text-align: right;\">\n",
              "      <th></th>\n",
              "      <th>%Gord</th>\n",
              "      <th>Peso(kg)</th>\n",
              "      <th>Abdômen(cm)</th>\n",
              "    </tr>\n",
              "  </thead>\n",
              "  <tbody>\n",
              "    <tr>\n",
              "      <th>0</th>\n",
              "      <td>12.3</td>\n",
              "      <td>69.966566</td>\n",
              "      <td>85.2</td>\n",
              "    </tr>\n",
              "    <tr>\n",
              "      <th>1</th>\n",
              "      <td>6.1</td>\n",
              "      <td>78.584814</td>\n",
              "      <td>83.0</td>\n",
              "    </tr>\n",
              "    <tr>\n",
              "      <th>2</th>\n",
              "      <td>25.3</td>\n",
              "      <td>69.853168</td>\n",
              "      <td>87.9</td>\n",
              "    </tr>\n",
              "    <tr>\n",
              "      <th>3</th>\n",
              "      <td>10.4</td>\n",
              "      <td>83.801122</td>\n",
              "      <td>86.4</td>\n",
              "    </tr>\n",
              "    <tr>\n",
              "      <th>4</th>\n",
              "      <td>28.7</td>\n",
              "      <td>83.574326</td>\n",
              "      <td>100.0</td>\n",
              "    </tr>\n",
              "    <tr>\n",
              "      <th>...</th>\n",
              "      <td>...</td>\n",
              "      <td>...</td>\n",
              "      <td>...</td>\n",
              "    </tr>\n",
              "    <tr>\n",
              "      <th>247</th>\n",
              "      <td>11.0</td>\n",
              "      <td>60.894726</td>\n",
              "      <td>83.6</td>\n",
              "    </tr>\n",
              "    <tr>\n",
              "      <th>248</th>\n",
              "      <td>33.6</td>\n",
              "      <td>91.171992</td>\n",
              "      <td>105.0</td>\n",
              "    </tr>\n",
              "    <tr>\n",
              "      <th>249</th>\n",
              "      <td>29.3</td>\n",
              "      <td>84.708306</td>\n",
              "      <td>111.5</td>\n",
              "    </tr>\n",
              "    <tr>\n",
              "      <th>250</th>\n",
              "      <td>26.0</td>\n",
              "      <td>86.522674</td>\n",
              "      <td>101.3</td>\n",
              "    </tr>\n",
              "    <tr>\n",
              "      <th>251</th>\n",
              "      <td>31.9</td>\n",
              "      <td>94.120340</td>\n",
              "      <td>108.5</td>\n",
              "    </tr>\n",
              "  </tbody>\n",
              "</table>\n",
              "<p>247 rows × 3 columns</p>\n",
              "</div>\n",
              "      <button class=\"colab-df-convert\" onclick=\"convertToInteractive('df-b9ea69c0-5512-48be-9b7d-f8df434d8cf7')\"\n",
              "              title=\"Convert this dataframe to an interactive table.\"\n",
              "              style=\"display:none;\">\n",
              "        \n",
              "  <svg xmlns=\"http://www.w3.org/2000/svg\" height=\"24px\"viewBox=\"0 0 24 24\"\n",
              "       width=\"24px\">\n",
              "    <path d=\"M0 0h24v24H0V0z\" fill=\"none\"/>\n",
              "    <path d=\"M18.56 5.44l.94 2.06.94-2.06 2.06-.94-2.06-.94-.94-2.06-.94 2.06-2.06.94zm-11 1L8.5 8.5l.94-2.06 2.06-.94-2.06-.94L8.5 2.5l-.94 2.06-2.06.94zm10 10l.94 2.06.94-2.06 2.06-.94-2.06-.94-.94-2.06-.94 2.06-2.06.94z\"/><path d=\"M17.41 7.96l-1.37-1.37c-.4-.4-.92-.59-1.43-.59-.52 0-1.04.2-1.43.59L10.3 9.45l-7.72 7.72c-.78.78-.78 2.05 0 2.83L4 21.41c.39.39.9.59 1.41.59.51 0 1.02-.2 1.41-.59l7.78-7.78 2.81-2.81c.8-.78.8-2.07 0-2.86zM5.41 20L4 18.59l7.72-7.72 1.47 1.35L5.41 20z\"/>\n",
              "  </svg>\n",
              "      </button>\n",
              "      \n",
              "  <style>\n",
              "    .colab-df-container {\n",
              "      display:flex;\n",
              "      flex-wrap:wrap;\n",
              "      gap: 12px;\n",
              "    }\n",
              "\n",
              "    .colab-df-convert {\n",
              "      background-color: #E8F0FE;\n",
              "      border: none;\n",
              "      border-radius: 50%;\n",
              "      cursor: pointer;\n",
              "      display: none;\n",
              "      fill: #1967D2;\n",
              "      height: 32px;\n",
              "      padding: 0 0 0 0;\n",
              "      width: 32px;\n",
              "    }\n",
              "\n",
              "    .colab-df-convert:hover {\n",
              "      background-color: #E2EBFA;\n",
              "      box-shadow: 0px 1px 2px rgba(60, 64, 67, 0.3), 0px 1px 3px 1px rgba(60, 64, 67, 0.15);\n",
              "      fill: #174EA6;\n",
              "    }\n",
              "\n",
              "    [theme=dark] .colab-df-convert {\n",
              "      background-color: #3B4455;\n",
              "      fill: #D2E3FC;\n",
              "    }\n",
              "\n",
              "    [theme=dark] .colab-df-convert:hover {\n",
              "      background-color: #434B5C;\n",
              "      box-shadow: 0px 1px 3px 1px rgba(0, 0, 0, 0.15);\n",
              "      filter: drop-shadow(0px 1px 2px rgba(0, 0, 0, 0.3));\n",
              "      fill: #FFFFFF;\n",
              "    }\n",
              "  </style>\n",
              "\n",
              "      <script>\n",
              "        const buttonEl =\n",
              "          document.querySelector('#df-b9ea69c0-5512-48be-9b7d-f8df434d8cf7 button.colab-df-convert');\n",
              "        buttonEl.style.display =\n",
              "          google.colab.kernel.accessAllowed ? 'block' : 'none';\n",
              "\n",
              "        async function convertToInteractive(key) {\n",
              "          const element = document.querySelector('#df-b9ea69c0-5512-48be-9b7d-f8df434d8cf7');\n",
              "          const dataTable =\n",
              "            await google.colab.kernel.invokeFunction('convertToInteractive',\n",
              "                                                     [key], {});\n",
              "          if (!dataTable) return;\n",
              "\n",
              "          const docLinkHtml = 'Like what you see? Visit the ' +\n",
              "            '<a target=\"_blank\" href=https://colab.research.google.com/notebooks/data_table.ipynb>data table notebook</a>'\n",
              "            + ' to learn more about interactive tables.';\n",
              "          element.innerHTML = '';\n",
              "          dataTable['output_type'] = 'display_data';\n",
              "          await google.colab.output.renderOutput(dataTable, element);\n",
              "          const docLink = document.createElement('div');\n",
              "          docLink.innerHTML = docLinkHtml;\n",
              "          element.appendChild(docLink);\n",
              "        }\n",
              "      </script>\n",
              "    </div>\n",
              "  </div>\n",
              "  "
            ]
          },
          "metadata": {},
          "execution_count": 291
        }
      ]
    },
    {
      "cell_type": "markdown",
      "source": [
        "# **REGRESSÃO LINEAR**"
      ],
      "metadata": {
        "id": "icIQVSgewNBX"
      }
    },
    {
      "cell_type": "code",
      "source": [
        "from sklearn.linear_model import LinearRegression\n",
        "from sklearn.model_selection import train_test_split\n",
        "from sklearn.metrics import mean_squared_error, mean_absolute_error, r2_score\n",
        "\n",
        "y = '%Gord'                            # variável-alvo\n",
        "X = BodyFat.drop([y], axis = 'columns')        # variável X (retirando a variável y da tabela)   \n",
        "X\n"
      ],
      "metadata": {
        "id": "tgTQJcTmlKxI",
        "colab": {
          "base_uri": "https://localhost:8080/",
          "height": 424
        },
        "outputId": "f522addf-5b50-46a1-8d87-57170e1d2677"
      },
      "execution_count": null,
      "outputs": [
        {
          "output_type": "execute_result",
          "data": {
            "text/plain": [
              "      Peso(kg)  Abdômen(cm)\n",
              "0    69.966566         85.2\n",
              "1    78.584814         83.0\n",
              "2    69.853168         87.9\n",
              "3    83.801122         86.4\n",
              "4    83.574326        100.0\n",
              "..         ...          ...\n",
              "247  60.894726         83.6\n",
              "248  91.171992        105.0\n",
              "249  84.708306        111.5\n",
              "250  86.522674        101.3\n",
              "251  94.120340        108.5\n",
              "\n",
              "[247 rows x 2 columns]"
            ],
            "text/html": [
              "\n",
              "  <div id=\"df-77afe210-c617-46d6-aeb4-f736de3a5dd1\">\n",
              "    <div class=\"colab-df-container\">\n",
              "      <div>\n",
              "<style scoped>\n",
              "    .dataframe tbody tr th:only-of-type {\n",
              "        vertical-align: middle;\n",
              "    }\n",
              "\n",
              "    .dataframe tbody tr th {\n",
              "        vertical-align: top;\n",
              "    }\n",
              "\n",
              "    .dataframe thead th {\n",
              "        text-align: right;\n",
              "    }\n",
              "</style>\n",
              "<table border=\"1\" class=\"dataframe\">\n",
              "  <thead>\n",
              "    <tr style=\"text-align: right;\">\n",
              "      <th></th>\n",
              "      <th>Peso(kg)</th>\n",
              "      <th>Abdômen(cm)</th>\n",
              "    </tr>\n",
              "  </thead>\n",
              "  <tbody>\n",
              "    <tr>\n",
              "      <th>0</th>\n",
              "      <td>69.966566</td>\n",
              "      <td>85.2</td>\n",
              "    </tr>\n",
              "    <tr>\n",
              "      <th>1</th>\n",
              "      <td>78.584814</td>\n",
              "      <td>83.0</td>\n",
              "    </tr>\n",
              "    <tr>\n",
              "      <th>2</th>\n",
              "      <td>69.853168</td>\n",
              "      <td>87.9</td>\n",
              "    </tr>\n",
              "    <tr>\n",
              "      <th>3</th>\n",
              "      <td>83.801122</td>\n",
              "      <td>86.4</td>\n",
              "    </tr>\n",
              "    <tr>\n",
              "      <th>4</th>\n",
              "      <td>83.574326</td>\n",
              "      <td>100.0</td>\n",
              "    </tr>\n",
              "    <tr>\n",
              "      <th>...</th>\n",
              "      <td>...</td>\n",
              "      <td>...</td>\n",
              "    </tr>\n",
              "    <tr>\n",
              "      <th>247</th>\n",
              "      <td>60.894726</td>\n",
              "      <td>83.6</td>\n",
              "    </tr>\n",
              "    <tr>\n",
              "      <th>248</th>\n",
              "      <td>91.171992</td>\n",
              "      <td>105.0</td>\n",
              "    </tr>\n",
              "    <tr>\n",
              "      <th>249</th>\n",
              "      <td>84.708306</td>\n",
              "      <td>111.5</td>\n",
              "    </tr>\n",
              "    <tr>\n",
              "      <th>250</th>\n",
              "      <td>86.522674</td>\n",
              "      <td>101.3</td>\n",
              "    </tr>\n",
              "    <tr>\n",
              "      <th>251</th>\n",
              "      <td>94.120340</td>\n",
              "      <td>108.5</td>\n",
              "    </tr>\n",
              "  </tbody>\n",
              "</table>\n",
              "<p>247 rows × 2 columns</p>\n",
              "</div>\n",
              "      <button class=\"colab-df-convert\" onclick=\"convertToInteractive('df-77afe210-c617-46d6-aeb4-f736de3a5dd1')\"\n",
              "              title=\"Convert this dataframe to an interactive table.\"\n",
              "              style=\"display:none;\">\n",
              "        \n",
              "  <svg xmlns=\"http://www.w3.org/2000/svg\" height=\"24px\"viewBox=\"0 0 24 24\"\n",
              "       width=\"24px\">\n",
              "    <path d=\"M0 0h24v24H0V0z\" fill=\"none\"/>\n",
              "    <path d=\"M18.56 5.44l.94 2.06.94-2.06 2.06-.94-2.06-.94-.94-2.06-.94 2.06-2.06.94zm-11 1L8.5 8.5l.94-2.06 2.06-.94-2.06-.94L8.5 2.5l-.94 2.06-2.06.94zm10 10l.94 2.06.94-2.06 2.06-.94-2.06-.94-.94-2.06-.94 2.06-2.06.94z\"/><path d=\"M17.41 7.96l-1.37-1.37c-.4-.4-.92-.59-1.43-.59-.52 0-1.04.2-1.43.59L10.3 9.45l-7.72 7.72c-.78.78-.78 2.05 0 2.83L4 21.41c.39.39.9.59 1.41.59.51 0 1.02-.2 1.41-.59l7.78-7.78 2.81-2.81c.8-.78.8-2.07 0-2.86zM5.41 20L4 18.59l7.72-7.72 1.47 1.35L5.41 20z\"/>\n",
              "  </svg>\n",
              "      </button>\n",
              "      \n",
              "  <style>\n",
              "    .colab-df-container {\n",
              "      display:flex;\n",
              "      flex-wrap:wrap;\n",
              "      gap: 12px;\n",
              "    }\n",
              "\n",
              "    .colab-df-convert {\n",
              "      background-color: #E8F0FE;\n",
              "      border: none;\n",
              "      border-radius: 50%;\n",
              "      cursor: pointer;\n",
              "      display: none;\n",
              "      fill: #1967D2;\n",
              "      height: 32px;\n",
              "      padding: 0 0 0 0;\n",
              "      width: 32px;\n",
              "    }\n",
              "\n",
              "    .colab-df-convert:hover {\n",
              "      background-color: #E2EBFA;\n",
              "      box-shadow: 0px 1px 2px rgba(60, 64, 67, 0.3), 0px 1px 3px 1px rgba(60, 64, 67, 0.15);\n",
              "      fill: #174EA6;\n",
              "    }\n",
              "\n",
              "    [theme=dark] .colab-df-convert {\n",
              "      background-color: #3B4455;\n",
              "      fill: #D2E3FC;\n",
              "    }\n",
              "\n",
              "    [theme=dark] .colab-df-convert:hover {\n",
              "      background-color: #434B5C;\n",
              "      box-shadow: 0px 1px 3px 1px rgba(0, 0, 0, 0.15);\n",
              "      filter: drop-shadow(0px 1px 2px rgba(0, 0, 0, 0.3));\n",
              "      fill: #FFFFFF;\n",
              "    }\n",
              "  </style>\n",
              "\n",
              "      <script>\n",
              "        const buttonEl =\n",
              "          document.querySelector('#df-77afe210-c617-46d6-aeb4-f736de3a5dd1 button.colab-df-convert');\n",
              "        buttonEl.style.display =\n",
              "          google.colab.kernel.accessAllowed ? 'block' : 'none';\n",
              "\n",
              "        async function convertToInteractive(key) {\n",
              "          const element = document.querySelector('#df-77afe210-c617-46d6-aeb4-f736de3a5dd1');\n",
              "          const dataTable =\n",
              "            await google.colab.kernel.invokeFunction('convertToInteractive',\n",
              "                                                     [key], {});\n",
              "          if (!dataTable) return;\n",
              "\n",
              "          const docLinkHtml = 'Like what you see? Visit the ' +\n",
              "            '<a target=\"_blank\" href=https://colab.research.google.com/notebooks/data_table.ipynb>data table notebook</a>'\n",
              "            + ' to learn more about interactive tables.';\n",
              "          element.innerHTML = '';\n",
              "          dataTable['output_type'] = 'display_data';\n",
              "          await google.colab.output.renderOutput(dataTable, element);\n",
              "          const docLink = document.createElement('div');\n",
              "          docLink.innerHTML = docLinkHtml;\n",
              "          element.appendChild(docLink);\n",
              "        }\n",
              "      </script>\n",
              "    </div>\n",
              "  </div>\n",
              "  "
            ]
          },
          "metadata": {},
          "execution_count": 292
        }
      ]
    },
    {
      "cell_type": "code",
      "source": [
        "fig, ax = plt.subplots()\n",
        "\n",
        "ax.scatter(X['Peso(kg)'],BodyFat['%Gord'], s= 5, vmin=0, vmax=20)\n",
        "\n",
        "ax.set(autoscale_on = True)\n",
        "\n",
        "plt.show()"
      ],
      "metadata": {
        "colab": {
          "base_uri": "https://localhost:8080/",
          "height": 265
        },
        "id": "FqM4PzVmrqR2",
        "outputId": "ddbfe7ef-c54f-452f-c13c-de868ec0e14d"
      },
      "execution_count": null,
      "outputs": [
        {
          "output_type": "display_data",
          "data": {
            "text/plain": [
              "<Figure size 432x288 with 1 Axes>"
            ],
            "image/png": "[encoded data removed]"
          },
          "metadata": {
            "needs_background": "light"
          }
        }
      ]
    },
    {
      "cell_type": "markdown",
      "source": [
        "## **Separando os dados de treino e os dados de teste:**\n",
        "\n",
        "* Xtrain: dados de treino\n",
        "* Xtest: dados de teste/validação\n",
        "* Ytrain: variável alvo de treino\n",
        "* Ytest: variável alvo de teste/validação"
      ],
      "metadata": {
        "id": "46KPURMo1BvW"
      }
    },
    {
      "cell_type": "code",
      "source": [
        "Xtrain, Xtest, Ytrain, Ytest = train_test_split(X, BodyFat[y], test_size=0.3, random_state = 0)\n",
        "\n",
        "print(Xtrain.shape, Xtest.shape, Ytrain.shape, Ytest.shape)\n",
        "\n",
        "# train_test_split: separa um data frame ou um array em dados de treino e de teste de acordo com os parâmetros dados.\n",
        "# teste_size = 0.3: fixa 30% para dados de teste e 70% para dados de treino\n",
        "# random_state = 0: fixa sempre a mesma divisão entre dados de treino e dados de teste."
      ],
      "metadata": {
        "colab": {
          "base_uri": "https://localhost:8080/"
        },
        "id": "YHQk5PDvqwF_",
        "outputId": "f7bd486f-3672-459f-f2c9-4fc9807cc105"
      },
      "execution_count": null,
      "outputs": [
        {
          "output_type": "stream",
          "name": "stdout",
          "text": [
            "(172, 2) (75, 2) (172,) (75,)\n"
          ]
        }
      ]
    },
    {
      "cell_type": "markdown",
      "source": [
        "\n",
        "\n",
        "*  Xtrain: 176 linhas e 05 colunas  \n",
        "*  ytrain: 176 linas e 01 coluna\n",
        "*  Xtest: 76 linhas e 05 colunas\n",
        "*  Ytest: 76 linhas e 01 coluna     \n",
        "      \n",
        "   \n",
        "\n",
        "\n",
        "\n"
      ],
      "metadata": {
        "id": "V2b6XQkDroAY"
      }
    },
    {
      "cell_type": "markdown",
      "source": [
        "## **Rodando o modelo:**"
      ],
      "metadata": {
        "id": "1Sa8AitU2IAQ"
      }
    },
    {
      "cell_type": "code",
      "source": [
        "# Cria o modelo de regressão linear já normalizando os dados de entrada.\n",
        "modelo = LinearRegression(normalize = True)\n",
        "\n",
        "# Treinando o modelo e apresentando os coeficientes:\n",
        "modelo.fit(Xtrain, Ytrain)\n",
        "print(\"Coeficientes = \", modelo.coef_)\n",
        "print(\"Intercepto = \", modelo.intercept_)\n"
      ],
      "metadata": {
        "colab": {
          "base_uri": "https://localhost:8080/"
        },
        "id": "mm9fdpKgsADx",
        "outputId": "b4f026fa-0e16-41e6-c1c9-5f2456c00763"
      },
      "execution_count": null,
      "outputs": [
        {
          "output_type": "stream",
          "name": "stdout",
          "text": [
            "Coeficientes =  [-0.28584331  0.95823514]\n",
            "Intercepto =  -46.59538334888746\n"
          ]
        },
        {
          "output_type": "stream",
          "name": "stderr",
          "text": [
            "/usr/local/lib/python3.7/dist-packages/sklearn/linear_model/_base.py:145: FutureWarning: 'normalize' was deprecated in version 1.0 and will be removed in 1.2.\n",
            "If you wish to scale the data, use Pipeline with a StandardScaler in a preprocessing stage. To reproduce the previous behavior:\n",
            "\n",
            "from sklearn.pipeline import make_pipeline\n",
            "\n",
            "model = make_pipeline(StandardScaler(with_mean=False), LinearRegression())\n",
            "\n",
            "If you wish to pass a sample_weight parameter, you need to pass it as a fit parameter to each step of the pipeline as follows:\n",
            "\n",
            "kwargs = {s[0] + '__sample_weight': sample_weight for s in model.steps}\n",
            "model.fit(X, y, **kwargs)\n",
            "\n",
            "\n",
            "  FutureWarning,\n"
          ]
        }
      ]
    },
    {
      "cell_type": "code",
      "source": [
        "# R2 com dados de treino:\n",
        "Yprev_train  = modelo.predict(Xtrain)\n",
        "print('R2 Score: %.2f' % r2_score(Ytrain, Yprev_train))\n"
      ],
      "metadata": {
        "colab": {
          "base_uri": "https://localhost:8080/"
        },
        "id": "RQu9V0YzH5Q0",
        "outputId": "4a302ed4-d791-424b-dd89-2e6e53097c8f"
      },
      "execution_count": null,
      "outputs": [
        {
          "output_type": "stream",
          "name": "stdout",
          "text": [
            "R2 Score: 0.73\n"
          ]
        }
      ]
    },
    {
      "cell_type": "code",
      "source": [
        "# Rodando o modelo com os dados de teste:\n",
        "modelo.fit(Xtest, Ytest)\n",
        "modelo.coef_"
      ],
      "metadata": {
        "colab": {
          "base_uri": "https://localhost:8080/"
        },
        "id": "l_EmcH8YIDtJ",
        "outputId": "d1e3f007-a7a9-469c-8110-3c4079d86688"
      },
      "execution_count": null,
      "outputs": [
        {
          "output_type": "stream",
          "name": "stderr",
          "text": [
            "/usr/local/lib/python3.7/dist-packages/sklearn/linear_model/_base.py:145: FutureWarning: 'normalize' was deprecated in version 1.0 and will be removed in 1.2.\n",
            "If you wish to scale the data, use Pipeline with a StandardScaler in a preprocessing stage. To reproduce the previous behavior:\n",
            "\n",
            "from sklearn.pipeline import make_pipeline\n",
            "\n",
            "model = make_pipeline(StandardScaler(with_mean=False), LinearRegression())\n",
            "\n",
            "If you wish to pass a sample_weight parameter, you need to pass it as a fit parameter to each step of the pipeline as follows:\n",
            "\n",
            "kwargs = {s[0] + '__sample_weight': sample_weight for s in model.steps}\n",
            "model.fit(X, y, **kwargs)\n",
            "\n",
            "\n",
            "  FutureWarning,\n"
          ]
        },
        {
          "output_type": "execute_result",
          "data": {
            "text/plain": [
              "array([-0.2703611 ,  0.97576967])"
            ]
          },
          "metadata": {},
          "execution_count": 262
        }
      ]
    },
    {
      "cell_type": "code",
      "source": [
        "Yprev_test  = modelo.predict(Xtest)\n",
        "# R2 com dados de teste:\n",
        "print('R2 Score: %.2f' % r2_score(Ytest, Yprev_test))"
      ],
      "metadata": {
        "colab": {
          "base_uri": "https://localhost:8080/"
        },
        "id": "lktt8eOwIhoM",
        "outputId": "8fa644ae-b24b-40d7-8800-82fdc9e27388"
      },
      "execution_count": null,
      "outputs": [
        {
          "output_type": "stream",
          "name": "stdout",
          "text": [
            "R2 Score: 0.68\n"
          ]
        }
      ]
    },
    {
      "cell_type": "code",
      "source": [
        "# Fazendo a previsão:\n",
        "# O método predict pega o modelo treinado e faz a previsão com os coeficientes da regressão.\n",
        "# É necessário passar apenas o Xval, com 76 linhas e ele retornará um array com 76 previsões de y.\n",
        "Yprev  = modelo.predict(Xtest)\n",
        "Yprev "
      ],
      "metadata": {
        "colab": {
          "base_uri": "https://localhost:8080/"
        },
        "id": "nOmzd8y8Hicm",
        "outputId": "880eddce-a6b2-4a65-ff9d-defd9a0903ad"
      },
      "execution_count": null,
      "outputs": [
        {
          "output_type": "execute_result",
          "data": {
            "text/plain": [
              "array([22.88245966, 18.79157149, 22.25188159, 20.02146454, 15.09689527,\n",
              "       19.33221936, 12.48267911,  6.99300997, 19.77619728, 24.46905013,\n",
              "       26.14701115, 22.61948016, 19.0100394 , 16.08356608, 19.71873951,\n",
              "       19.44220916, 22.17466656, 31.93796497, 24.66564442, 14.63997118,\n",
              "       15.79499657, 11.93022308, 18.62503094,  8.79095492, 10.71448555,\n",
              "       23.53718738, 31.33509327, 22.82439722,  8.42986511, 19.66711449,\n",
              "       19.81510713, 15.97864468, 13.53626848, 17.68082669,  8.70132706,\n",
              "       19.45280797, 18.59702223, 24.11644277,  8.40064706, 18.8169305 ,\n",
              "       20.85219361,  9.35635712, 29.26712672, 22.70411095, 27.95736893,\n",
              "       19.70723369, 16.9933242 , 16.24071717, 16.87598997, 16.24692359,\n",
              "       16.47743066, 21.94469283, 28.21679172, 16.12398762, 28.57583651,\n",
              "       16.51929255,  8.31457591, 15.56237314, 23.35883867, 22.19056477,\n",
              "       18.19195417, 17.53608843, 33.82969917, 11.01546789, 26.56177101,\n",
              "       17.72708098, 21.36604212, 28.98385661, 13.10674842, 17.53927148,\n",
              "       21.41055371, 17.58529475, 14.53974451, 15.40499104, 26.3336113 ])"
            ]
          },
          "metadata": {},
          "execution_count": 264
        }
      ]
    },
    {
      "cell_type": "code",
      "source": [
        "modelo.coef_\n"
      ],
      "metadata": {
        "colab": {
          "base_uri": "https://localhost:8080/"
        },
        "id": "gTTsgu10u5DO",
        "outputId": "9a9f8c10-801c-4416-a991-cedd09cb6ab2"
      },
      "execution_count": null,
      "outputs": [
        {
          "output_type": "execute_result",
          "data": {
            "text/plain": [
              "array([-0.2703611 ,  0.97576967])"
            ]
          },
          "metadata": {},
          "execution_count": 265
        }
      ]
    },
    {
      "cell_type": "code",
      "source": [
        "modelo.intercept_"
      ],
      "metadata": {
        "colab": {
          "base_uri": "https://localhost:8080/"
        },
        "id": "A1f6jgdao53H",
        "outputId": "f2a9e38e-fe54-4679-9e34-83c46358f8da"
      },
      "execution_count": null,
      "outputs": [
        {
          "output_type": "execute_result",
          "data": {
            "text/plain": [
              "-48.64810831596139"
            ]
          },
          "metadata": {},
          "execution_count": 266
        }
      ]
    },
    {
      "cell_type": "markdown",
      "source": [
        "# **CÁLCULO DAS MÉTRICAS DO MODELO**"
      ],
      "metadata": {
        "id": "EQViWYknFwbz"
      }
    },
    {
      "cell_type": "code",
      "source": [
        "\n",
        "\n",
        "# Erro Quadrático Médio (MSE)\n",
        "print('MSE: %.2f' % mean_squared_error(Ytest, Yprev))"
      ],
      "metadata": {
        "colab": {
          "base_uri": "https://localhost:8080/"
        },
        "id": "XzcuyHvuqYnd",
        "outputId": "bfd0cd74-21c3-472e-ce96-a99a3b3a937e"
      },
      "execution_count": null,
      "outputs": [
        {
          "output_type": "stream",
          "name": "stdout",
          "text": [
            "MSE: 16.45\n"
          ]
        }
      ]
    },
    {
      "cell_type": "code",
      "source": [
        "# Erro Absoluto Médio (MAE)\n",
        "print('MAE: %.2f' % mean_absolute_error(Ytest, Yprev))"
      ],
      "metadata": {
        "colab": {
          "base_uri": "https://localhost:8080/"
        },
        "id": "OSSWodz9qX-1",
        "outputId": "88a3f527-0479-4205-defc-641fb5aefee3"
      },
      "execution_count": null,
      "outputs": [
        {
          "output_type": "stream",
          "name": "stdout",
          "text": [
            "MAE: 3.28\n"
          ]
        }
      ]
    },
    {
      "cell_type": "code",
      "source": [
        "# R2 Score\n",
        "print('R2 Score: %.2f' % r2_score(Ytest, Yprev))"
      ],
      "metadata": {
        "colab": {
          "base_uri": "https://localhost:8080/"
        },
        "id": "Y8t9U_RnrYNB",
        "outputId": "5d7cfd39-f267-4edd-c8a0-d1e9738edf81"
      },
      "execution_count": null,
      "outputs": [
        {
          "output_type": "stream",
          "name": "stdout",
          "text": [
            "R2 Score: 0.68\n"
          ]
        }
      ]
    },
    {
      "cell_type": "markdown",
      "source": [
        "Referências:\n",
        "* https://dadosaocubo.com/regressao-com-scikit-learn/\n",
        "* https://www.dataquest.io/blog/understanding-regression-error-metrics/"
      ],
      "metadata": {
        "id": "m7zlAqNzsPXU"
      }
    }
  ]
}